{
 "cells": [
  {
   "cell_type": "code",
   "execution_count": 11,
   "metadata": {},
   "outputs": [],
   "source": [
    "import os\n",
    "import json\n",
    "import re"
   ]
  },
  {
   "cell_type": "code",
   "execution_count": 10,
   "metadata": {},
   "outputs": [],
   "source": [
    "def read_jsonlines(file_path):\n",
    "    with open(file_path, 'r') as f:\n",
    "        return [json.loads(line) for line in f]\n",
    "    \n",
    "results_dir = \"results\"\n",
    "\n",
    "datasets = ['bios', 'longfact', 'wildhallu']"
   ]
  },
  {
   "cell_type": "code",
   "execution_count": 14,
   "metadata": {},
   "outputs": [
    {
     "name": "stdout",
     "output_type": "stream",
     "text": [
      "Added topic key to /apdcephfs_qy3/share_733425/timhuang/caiqi/long-short-uncertainty/results/bios/llama3-70b-instruct/llama3-70b-instruct_answers.jsonl\n",
      "Added topic key to /apdcephfs_qy3/share_733425/timhuang/caiqi/long-short-uncertainty/results/bios/llama3-8b-instruct/llama3-8b-instruct_answers.jsonl\n",
      "Added topic key to /apdcephfs_qy3/share_733425/timhuang/caiqi/long-short-uncertainty/results/bios/mistral-7b-instruct/mistral-7b-instruct_answers.jsonl\n",
      "Added topic key to /apdcephfs_qy3/share_733425/timhuang/caiqi/long-short-uncertainty/results/bios/qwen2-7b-instruct/qwen2-7b-instruct_answers.jsonl\n",
      "Added topic key to /apdcephfs_qy3/share_733425/timhuang/caiqi/long-short-uncertainty/results/longfact/llama3-70b-instruct/llama3-70b-instruct_answers.jsonl\n",
      "Added topic key to /apdcephfs_qy3/share_733425/timhuang/caiqi/long-short-uncertainty/results/longfact/llama3-8b-instruct/llama3-8b-instruct_answers.jsonl\n",
      "Added topic key to /apdcephfs_qy3/share_733425/timhuang/caiqi/long-short-uncertainty/results/longfact/mistral-7b-instruct/mistral-7b-instruct_answers.jsonl\n",
      "Added topic key to /apdcephfs_qy3/share_733425/timhuang/caiqi/long-short-uncertainty/results/longfact/qwen2-7b-instruct/qwen2-7b-instruct_answers.jsonl\n",
      "Added topic key to /apdcephfs_qy3/share_733425/timhuang/caiqi/long-short-uncertainty/results/wildhallu/llama3-8b-instruct/llama3-8b-instruct_answers.jsonl\n",
      "Added topic key to /apdcephfs_qy3/share_733425/timhuang/caiqi/long-short-uncertainty/results/wildhallu/qwen2-7b-instruct/qwen2-7b-instruct_answers.jsonl\n"
     ]
    }
   ],
   "source": [
    "for dataset in datasets:\n",
    "    datasets_results_dir = f\"{results_dir}/{dataset}\"\n",
    "    # get all the dirs in the dataset\n",
    "    model_dirs = os.listdir(datasets_results_dir)\n",
    "\n",
    "    for model_name in model_dirs:\n",
    "        # add a key to the jsonl file\n",
    "        answers_file = f\"{datasets_results_dir}/{model_name}/{model_name}_answers.jsonl\"\n",
    "        answers = read_jsonlines(answers_file)\n",
    "        for answer in answers:\n",
    "            if dataset == 'bios':\n",
    "                topic = answer['prompt'].replace(\"Tell me a bio of \", \"\")\n",
    "                topic = topic[:-1]\n",
    "                answer['topic'] = topic\n",
    "            elif dataset == 'longfact':\n",
    "                answer['topic'] = None\n",
    "            elif dataset == 'wildhallu':\n",
    "                topic = answer['prompt'].replace(\"Tell me as much as you can about \", \"\")\n",
    "                topic = topic[:-1]\n",
    "                answer['topic'] = topic\n",
    "        with open(answers_file, 'w') as f:\n",
    "            for answer in answers:\n",
    "                f.write(json.dumps(answer) + '\\n')\n",
    "        print(f\"Added topic key to {answers_file}\")"
   ]
  }
 ],
 "metadata": {
  "kernelspec": {
   "display_name": "general",
   "language": "python",
   "name": "python3"
  },
  "language_info": {
   "codemirror_mode": {
    "name": "ipython",
    "version": 3
   },
   "file_extension": ".py",
   "mimetype": "text/x-python",
   "name": "python",
   "nbconvert_exporter": "python",
   "pygments_lexer": "ipython3",
   "version": "3.11.9"
  }
 },
 "nbformat": 4,
 "nbformat_minor": 2
}
